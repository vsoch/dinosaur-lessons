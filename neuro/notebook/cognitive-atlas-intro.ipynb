{
 "cells": [
  {
   "cell_type": "markdown",
   "metadata": {},
   "source": [
    "![http://cognitiveatlas.org//static/img/logo-front.png](http://cognitiveatlas.org//static/img/logo-front.png)\n",
    "\n",
    "\n",
    "<hr>\n",
    "\n",
    "Here we are going to interact with the [Cognitive Atlas](https://www.cognitiveatlas.org) \n",
    "via it's [Python API](https://github.com/CognitiveAtlas/cogat-python).\n",
    "\n",
    "## What is the Cognitive Atlas?\n",
    "\n",
    "The Cognitive Atlas is a community developed knowledge base for concepts defined in cognitive psychology. More formally, this is called an ontology, and less formally, it's a place to look up what a term means that you see in the psychology literature, and how it relates to other terms.\n",
    "\n",
    "We start using the cognitive atlas when we have a question of interest.\n",
    "\n",
    "> What is working memory?\n",
    "\n",
    "That seems like a good question! How might we have investigated the question, without any additional tool?\n",
    "\n",
    " - Do a Google Search and trust the internet\n",
    " - Do a literature review and try to synthesize many results\n",
    " - Rely on meta analysis\n",
    " \n",
    "The above options are good, but each has drawbacks. For example, it would be hard to synthesize the opinions and studies from any of the resources above. Meta analyses are good, but typically come in the form of published papers that are hard to amend, or using methods that are not completely transparent. These ideas are living and changing things, and we need a tool that is flexible to that.\n",
    "\n",
    "<hr>\n",
    "\n",
    "## The Web Interface\n",
    "\n",
    "If you are just exploring, you are best to interact with the Cognitive Atlas via it's web interface at [cognitiveatlas.org](https://www.cognitiveatlas.org). For example, here is a page for working memory at [http://cognitiveatlas.org/concept/id/trm_4a3fd79d0b5a7/](http://cognitiveatlas.org/concept/id/trm_4a3fd79d0b5a7/). I'm showing you the URL for a few important reasons:\n",
    "\n",
    "  - we see that it's something called a \"concept\"\n",
    "  - we see embedded in the URL is some kind of \"id,\" the string `trm_4a3fd79d0b5a7`. Let's keep this in mind for later.\n",
    "\n",
    "### Use Cases\n",
    "\n",
    "From the interface we can quickly learn many things like the following:\n",
    "\n",
    "### 1. Definition\n",
    "\n",
    "We might be writing a review or paper, or just want to understand what the term means, to the best of the knowledge of the experts that have contributed to the Cognitive Atlas. Here we can see, front and center, this definition (here is the first bit of it).\n",
    "\n",
    "> \"active maintenance and flexible updating of goal/task relevant information (items, goals, strategies, etc.) in a form that resists interference but has limited capacity. ...\"\n",
    "\n",
    "This is great, but note that it hasn't been reviewed. We can do more investigation by looking at the [citations](http://cognitiveatlas.org/concept/id/trm_4a3fd79d0b5a7/#block-biblio) on the page, or in the case of a non Anonymous contribution, see the contribution author(s). Note that although you can't see it, there is a complete history kept of contributors to the terms.\n",
    "\n",
    "### 2. Tasks\n",
    "\n",
    "If you are a graduate student and wanting to conduct a study to measure working memory, this might be your stopping point! There is a list of over 15 [tasks](http://cognitiveatlas.org/concept/id/trm_4a3fd79d0b5a7/#block-measurements) on the page that have been asserted to measure working memory.\n",
    "\n",
    "### 3. Relationships\n",
    "\n",
    "How does working memory relate to the concept of [maintenance](http://cognitiveatlas.org/concept/id/trm_4a3fd79d0ba30/)? What about general [decision making](http://cognitiveatlas.org/concept/id/trm_4a3fd79d0a038/)? Remember that the Cognitive Atlas is an ontology, which means it defines both concepts **and** relationships between them! We have descriptors for these relationships, like \"part of\" or \"kind of\". You might see how this maps nicely to a graph:\n",
    "\n",
    " - a **concept** or **task** (or general entity represented in the atlas) maps to a node\n",
    " - a **relationship** between terms maps to a link between nodes\n",
    " - the strength of any relationship maps to a weight of a link between nodes\n",
    " \n",
    " This opens up a very powerful idea - we can use ideas and methods from graph theory to understand ideas in cognitive science. We can also generate visualizations to see them. For example, try posting this query:\n",
    " \n",
    " ```cypher\n",
    " MATCH (n:concept) where n.id = 'trm_4a3fd79d0ba30' OPTIONAL MATCH (n)-[]-(r) return n, r\n",
    " ```\n",
    "Into the Neo4J browser (the top line of the window at [https://cognitiveatlas.org:7473/browser/](https://cognitiveatlas.org:7473/browser/)). You would see a little graph that describes the term \"maintenance\"\n",
    "\n",
    "![neo4j-graph-maintenance.png](neo4j-graph-maintenance.png)\n",
    "\n",
    "While many of these interactive, jumpy visualizations aren't super useful, they can be helpful for a talk, to show an idea in a paper, or solidify your understanding of a more complex relationship.\n",
    "\n",
    "These are the basic functions and components of the Cognitive Atlas. If you are interested, you can also explore [Phenotypes](http://cognitiveatlas.org/disorders), [Tasks](http://cognitiveatlas.org/tasks/a/) and [Collections](http://cognitiveatlas.org/collections) (groups of tasks). But the web interface is limited in what we are able to analyze, in a large scale sense. In the next section, let's talk about more programmatic use of the Cognitive Atlas.\n",
    "\n",
    "<hr>\n",
    "\n",
    "## The Cognitive Atlas API\n",
    "\n",
    "API means \"application programming interface\" and it really is exactly that! It's a set of functions that you can call from a programming language (e.g., Python and R are common languages for scientific programming) to interact with a resource (for example, a database) to answer some question. In fact, APIs are essential for science - there are questions that, in order to answer, might require interaction with datasets beyond the ability of a human. We can't easily answer all queries that we might have about cognitive knowledge in a web browser! For example, here are some more advanced use cases that would require programming and (some) graph theory:\n",
    "\n",
    " - What cognitive concepts are represented across a database of over 1 million articles from the literature\n",
    " - **how** similar is working memory to all other concepts in the atlas?\n",
    "     - Can you give me a number?\n",
    "     - Can you define a threshold of significance?\n",
    " - What parts of the brain, represened by coordinate locations reported in the literature, are associated with the concept?\n",
    "\n",
    "Beyond using the Cognitive Atlas as a lookup for terms, you can see that there are many use cases in research that would warrant interacting with it programatically, integrated with other tools, or scaled. Today let's explore one of these use cases - the third - and understand what areas of the brain might be involved with working memory.\n",
    " \n",
    "<hr>\n",
    " \n",
    "# Getting Started Tutorial\n",
    "\n",
    "The reason we are using a Jupyter Notebook is so that we can have code! If you are curious, this was generated with a Python 3 kernel, and installing the [Cognitive Atlas](https://github.com/CognitiveAtlas/cogat-python) Python API wrapper with pip:\n",
    "\n",
    "```bash\n",
    "pip install cognitiveatlas\n",
    "```\n",
    "\n",
    "Actually, the API itself is a [RESTful](https://codewords.recurse.com/issues/five/what-restful-actually-means) API, and could be interacted with via any programming language that can parse the [JSON endpoints](https://cognitiveatlas.org/api). Python is a popular language for neuroscience, and so it was chosen by the creator, who happens to be [this author](https://www.github.com/vsoch) :) It's a small world!\n",
    "\n",
    "## 1. Define interesting questions\n",
    "\n",
    "We don't want to approach a programming task without having clear definition of what we are aiming to do. Let's define a simple set of questions right now:\n",
    "\n",
    " 1. What is working memory?\n",
    " 2. What concepts are related to it?\n",
    " 3. What parts of the brain have associations from the literature?\n",
    " \n",
    "If we were using the interface we might have been okay going to the page discussed earlier, but we run into some trouble with the third question, because we need to integrate with another database (called [NeuroSynth](http://neurosynth.org) to derive a brain map, more on this later) and, while there actually is a button to drive this search now in the browser, we might want to easily do many of these queries, and for each, to download result maps at scale. That would be a lot of clicking to do in the interface! With programming, we can write a script and then go off and make a sandwich. Okay, so we have our dummy question of interest. \n",
    "\n",
    "\n",
    "## 2. Define plan of action\n",
    "\n",
    "Once we have questions of interest, we need a (general) sense of how we will approach solving the problem. For the above, we are going to take the following approach:\n",
    "\n",
    " 1. Use the Cognitive Atlas Python API to query the Cognitive Atlas to look up a term based on it's name\n",
    " 2. From 1., use the term identifier, and use that identifier to look for terms that are related.\n",
    " 3. Use the same identifier to query the NeuroSynth API to derive a brain map.\n",
    " \n",
    "I'll leave reading about how [NeuroSynth works](http://neurosynth.org/faq/) to the interested reader.\n",
    "\n",
    "Let's get started!\n",
    "\n",
    "<hr>\n",
    "\n",
    "### Look Up a Term\n",
    "\n",
    "Let's import functions that we need from the Cognitive Atlas API, namely those to \"get\" things."
   ]
  },
  {
   "cell_type": "code",
   "execution_count": 47,
   "metadata": {},
   "outputs": [],
   "source": [
    "from cognitiveatlas.api import get_concept, get_task, get_disorder"
   ]
  },
  {
   "cell_type": "markdown",
   "metadata": {},
   "source": [
    "How would you know how to use these functions? if you follow the link from the Cognitive Atlas site\n",
    "you are taken to the [readthedocs](https://cogat-python.readthedocs.io/en/latest/getting_started.html#get-concept) pages. ReadTheDocs is a service that can help software maintainers to easily render and provide beautiful\n",
    "documentation for their users. This is where we will find examples, and how to provide arguments to a function.\n",
    "This is important for our first interaction, and a general good piece of advice.\n",
    "\n",
    "> It's helpful to start learning with a tutorial or \"getting started\" guide\n",
    "\n",
    "If a piece of software _doesn't_ provide this, you should ask for it. Whether that is a post on an\n",
    "issue board or an emali to a list, as a user it's an important resource to be provided for you.\n",
    "And it's ok to ask for what you need. Okay, so based on the page linked above for the function `get_concept`\n",
    "let's see if we get get the concept \"working memory\":"
   ]
  },
  {
   "cell_type": "code",
   "execution_count": 19,
   "metadata": {},
   "outputs": [
    {
     "name": "stdout",
     "output_type": "stream",
     "text": [
      "http://cognitiveatlas.org/api/v-alpha/concept?name=working%20memory\n",
      "Result Includes:<pandas:data frame><json:dict><txt:str><url:str>\n"
     ]
    }
   ],
   "source": [
    "concept = get_concept(name=\"working memory\")"
   ]
  },
  {
   "cell_type": "markdown",
   "metadata": {},
   "source": [
    "Hey that's pretty neat! The call is showing me a quick link to see the concept, along with how to interact with it. It looks like the result has a [pandas](https://pandas.pydata.org/) data frame, a [JSON](http://json-schema.org/) (JavaScript Object Notation) object, and the url as a string. Let's see what we get when we print it: Note that if you didn't know what was in the result (and the documentation didn't help you) you could type `dir(concept)` to see it, or in an interactive jupyter notebook or ipython terminal you could use TAB autocompletion."
   ]
  },
  {
   "cell_type": "code",
   "execution_count": 25,
   "metadata": {},
   "outputs": [
    {
     "name": "stdout",
     "output_type": "stream",
     "text": [
      "The keys for the concept working memory are:\n",
      "dict_keys(['conceptclasses', 'definition_text', 'contrasts', 'def_id', 'event_stamp', 'id_concept_class', 'id_user', 'def_event_stamp', 'id', 'def_id_user', 'type', 'citations', 'alias', 'last_updated', 'creation_time', 'concepts', 'relationships', 'name'])\n"
     ]
    }
   ],
   "source": [
    "# Print the keys for the dictionary\n",
    "print(\"The keys for the concept %s are:\" % concept.json['name'])\n",
    "print(concept.json.keys())"
   ]
  },
  {
   "cell_type": "markdown",
   "metadata": {},
   "source": [
    "And then we can look at the entire thing, if we wish, which includes the values for those keys!"
   ]
  },
  {
   "cell_type": "code",
   "execution_count": 53,
   "metadata": {},
   "outputs": [],
   "source": [
    "# concept.json"
   ]
  },
  {
   "cell_type": "markdown",
   "metadata": {},
   "source": [
    "Wow, that's quite a bit of metadata and information about \"working memory\" that we just didn't see in the web interface. This also tends to be the case for APIs - they provide a richer source of information. We can easily see the definition of working memory under the \"definition\" key:"
   ]
  },
  {
   "cell_type": "code",
   "execution_count": 27,
   "metadata": {},
   "outputs": [
    {
     "name": "stdout",
     "output_type": "stream",
     "text": [
      "active maintenance and flexible updating of goal/task relevant information (items, goals, strategies, etc.) in a form that resists interference but has limited capacity. These representations may involve flexible binding of representations, may be characterized by the absence of external support for the internally maintained representations, and are frequently temporary due to ongoing interference\r\n",
      "\n"
     ]
    }
   ],
   "source": [
    "print(concept.json['definition_text'])"
   ]
  },
  {
   "cell_type": "markdown",
   "metadata": {},
   "source": [
    "Boum! Does that look familiar? We just found the exact definition that we read in the web interface earlier! It's even extracted from the same database, likely with the same function on the back end. Now imagine if you had a list of terms that you would otherwise have to manually look up? You can write a loop to do it for you!"
   ]
  },
  {
   "cell_type": "code",
   "execution_count": 46,
   "metadata": {},
   "outputs": [
    {
     "name": "stdout",
     "output_type": "stream",
     "text": [
      "http://cognitiveatlas.org/api/v-alpha/concept?name=anxiety\n",
      "Result Includes:<pandas:data frame><json:dict><txt:str><url:str>\n",
      "http://cognitiveatlas.org/api/v-alpha/concept?name=memory\n",
      "Result Includes:<pandas:data frame><json:dict><txt:str><url:str>\n",
      "http://cognitiveatlas.org/api/v-alpha/concept?name=negative%20emotion\n",
      "Result Includes:<pandas:data frame><json:dict><txt:str><url:str>\n"
     ]
    }
   ],
   "source": [
    "for term in ['anxiety', 'memory', 'negative emotion']:\n",
    "    concept = get_concept(name=term)"
   ]
  },
  {
   "cell_type": "markdown",
   "metadata": {},
   "source": [
    "Note that we've even found a term that isn't defined yet, \"negative emotion.\" If I were interested or working on this term, I would want to open up discussion with others to define this term. We can also use the API to look up concepts based on other fields, or the same lookup for tasks or disorders:"
   ]
  },
  {
   "cell_type": "code",
   "execution_count": 45,
   "metadata": {},
   "outputs": [
    {
     "name": "stdout",
     "output_type": "stream",
     "text": [
      "http://cognitiveatlas.org/api/v-alpha/task?name=Stroop%20task\n",
      "Result Includes:<pandas:data frame><json:dict><txt:str><url:str>\n"
     ]
    }
   ],
   "source": [
    "task = get_task(name=\"Stroop task\")"
   ]
  },
  {
   "cell_type": "code",
   "execution_count": 44,
   "metadata": {},
   "outputs": [
    {
     "name": "stdout",
     "output_type": "stream",
     "text": [
      "http://cognitiveatlas.org/api/v-alpha/disorder?name=major%20depressive%20disorder\n",
      "Result Includes:<pandas:data frame><json:dict><txt:str><url:str>\n"
     ]
    }
   ],
   "source": [
    "phenotype = get_disorder(name=\"major depressive disorder\")"
   ]
  },
  {
   "cell_type": "markdown",
   "metadata": {},
   "source": [
    "I think at this point we've successfully used the API to answer our first question! You also have a sense of how this could scale. Let's move on to the second.\n",
    "\n",
    "<hr>\n",
    "\n",
    "### Look for related terms\n",
    "\n",
    "Our next task is to look for related terms. Let's again get our concept, and switch it up a bit and look at \"anxiety\" instead (one that I was particularly interested in during graduate school!) We will get the concept, and then look at the relationships to it. This would be akin to manually walking down a link on the graph to find another node."
   ]
  },
  {
   "cell_type": "code",
   "execution_count": 49,
   "metadata": {},
   "outputs": [
    {
     "name": "stdout",
     "output_type": "stream",
     "text": [
      "http://cognitiveatlas.org/api/v-alpha/concept?name=anxiety\n",
      "Result Includes:<pandas:data frame><json:dict><txt:str><url:str>\n"
     ]
    },
    {
     "data": {
      "text/plain": [
       "[{'alias': '',\n",
       "  'creation_time': 1512660629809,\n",
       "  'def_event_stamp': '2012-03-28T17:54:40',\n",
       "  'def_id': 'def_4f7350605133e',\n",
       "  'def_id_user': 'usr_49a467bf4e0db',\n",
       "  'definition_text': 'a complex of psychological phenomena that involve some degree of arousal and valence (positive/negative)',\n",
       "  'direction': 'parent',\n",
       "  'event_stamp': '2009-06-22T19:12:55',\n",
       "  'id': 'trm_4a3fd79d0a17f',\n",
       "  'id_concept_class': 'ctp_C8',\n",
       "  'id_user': 'usr_0000000000',\n",
       "  'last_updated': 1512660629809,\n",
       "  'name': 'emotion',\n",
       "  'relationship': 'KINDOF'}]"
      ]
     },
     "execution_count": 49,
     "metadata": {},
     "output_type": "execute_result"
    }
   ],
   "source": [
    "concept = get_concept(name=\"anxiety\")\n",
    "concept.json['relationships']"
   ]
  },
  {
   "cell_type": "markdown",
   "metadata": {},
   "source": [
    "Above we learn that anxiety is a `KIND OF` emotion. We could then look up this term (the walking along the graph part):"
   ]
  },
  {
   "cell_type": "code",
   "execution_count": 50,
   "metadata": {},
   "outputs": [
    {
     "name": "stdout",
     "output_type": "stream",
     "text": [
      "http://cognitiveatlas.org/api/v-alpha/concept?id=trm_4a3fd79d0a17f\n",
      "Result Includes:<pandas:data frame><json:dict><txt:str><url:str>\n"
     ]
    }
   ],
   "source": [
    "parent = get_concept(concept.json['relationships'][0]['id'])"
   ]
  },
  {
   "cell_type": "markdown",
   "metadata": {},
   "source": [
    "<hr>\n",
    "\n",
    "### Derive a Brain Map\n",
    "\n",
    "The next steps for this tutorial are left up to the interested reader. There are several things you can do!\n",
    "\n",
    " - Use the [NeuroSynth]() web interface to look up a brain map based on a concept term of interset. For example, [here is the map](http://neurosynth.org/analyses/terms/anxiety/) derived using a summary meta analysis method (based on coordinates reported in the literature) for the term \"anxiety\". \n",
    "\n",
    "You can think of NeuroSynth as a framework to do a meta analysis that looks across the psychology literature, finds tables of x,y,z coordinates reported in publications, and looks for \"significant\" areas of agreement. Aka, what blobs in the brain are commonly seen in papers with a high prevalence of the term \"anxiety\" in the abstract? It's a fairly simple method, but it (surprising to the author as well, I think) works fairly well.\n",
    "\n",
    "- Use the [NeuroVault](https://www.neurovault.org) database to look up individual studies that might be about our term, and find the statistical brain maps shared by the authors.\n",
    " - Find similar datasets, but one level down (the raw functional scans) on [OpenfMRI](https://www.openfmri.org)\n",
    " - Test out the [NiMare](https://www.github.com/neurostuff/NiMare) tools that are under develpoment, with plans to replace (improve upon) the current NeuroSynth.\n",
    " \n",
    "Thanks friend! I hope you enjoyed this tutorial today."
   ]
  }
 ],
 "metadata": {
  "kernelspec": {
   "display_name": "Python 3",
   "language": "python",
   "name": "python3"
  },
  "language_info": {
   "codemirror_mode": {
    "name": "ipython",
    "version": 3
   },
   "file_extension": ".py",
   "mimetype": "text/x-python",
   "name": "python",
   "nbconvert_exporter": "python",
   "pygments_lexer": "ipython3",
   "version": "3.6.4"
  }
 },
 "nbformat": 4,
 "nbformat_minor": 2
}
